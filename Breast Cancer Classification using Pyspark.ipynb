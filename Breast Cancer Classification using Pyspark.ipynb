{
  "nbformat": 4,
  "nbformat_minor": 0,
  "metadata": {
    "colab": {
      "name": "Kelompok 10 | Tugas Besar ABD 7A.ipynb",
      "provenance": [],
      "collapsed_sections": [
        "zjmwohXMSdF9",
        "Br4EYnxGShhB",
        "TV8uxJvA4fPq",
        "YdWHr2J1Y8rG",
        "ED_nJ8R6ZHme",
        "LKoMOljDZcE1",
        "QKhm5sK4ZoTV",
        "OGGnjGTWhEG6",
        "VJJQwnJEhPZ1",
        "akta88zynAGF"
      ],
      "toc_visible": true,
      "authorship_tag": "ABX9TyPmkDukjxQSiGuYuHut/Ubz",
      "include_colab_link": true
    },
    "kernelspec": {
      "name": "python3",
      "display_name": "Python 3"
    }
  },
  "cells": [
    {
      "cell_type": "markdown",
      "metadata": {
        "id": "view-in-github",
        "colab_type": "text"
      },
      "source": [
        "<a href=\"https://colab.research.google.com/github/hazmicokro/Breast-Cancer-Classification-using-Pyspark/blob/main/Breast%20Cancer%20Classification%20using%20Pyspark.ipynb\" target=\"_parent\"><img src=\"https://colab.research.google.com/assets/colab-badge.svg\" alt=\"Open In Colab\"/></a>"
      ]
    },
    {
      "cell_type": "markdown",
      "metadata": {
        "id": "vMYfNIhLa0qD"
      },
      "source": [
        "**Author : Hazmi Cokro**"
      ]
    },
    {
      "cell_type": "markdown",
      "metadata": {
        "id": "zjmwohXMSdF9"
      },
      "source": [
        "#[0] Install Pyspark"
      ]
    },
    {
      "cell_type": "code",
      "metadata": {
        "id": "re6T_xFHwMWJ"
      },
      "source": [
        "import warnings\r\n",
        "warnings.filterwarnings(\"ignore\", category=FutureWarning)"
      ],
      "execution_count": 52,
      "outputs": []
    },
    {
      "cell_type": "code",
      "metadata": {
        "colab": {
          "base_uri": "https://localhost:8080/"
        },
        "id": "vyd5kTUBDk5b",
        "outputId": "0a5e8b0b-f639-4d1b-b1d5-dc7650f9f036"
      },
      "source": [
        "!pip install pyspark"
      ],
      "execution_count": 2,
      "outputs": [
        {
          "output_type": "stream",
          "text": [
            "Collecting pyspark\n",
            "\u001b[?25l  Downloading https://files.pythonhosted.org/packages/f0/26/198fc8c0b98580f617cb03cb298c6056587b8f0447e20fa40c5b634ced77/pyspark-3.0.1.tar.gz (204.2MB)\n",
            "\u001b[K     |████████████████████████████████| 204.2MB 69kB/s \n",
            "\u001b[?25hCollecting py4j==0.10.9\n",
            "\u001b[?25l  Downloading https://files.pythonhosted.org/packages/9e/b6/6a4fb90cd235dc8e265a6a2067f2a2c99f0d91787f06aca4bcf7c23f3f80/py4j-0.10.9-py2.py3-none-any.whl (198kB)\n",
            "\u001b[K     |████████████████████████████████| 204kB 41.8MB/s \n",
            "\u001b[?25hBuilding wheels for collected packages: pyspark\n",
            "  Building wheel for pyspark (setup.py) ... \u001b[?25l\u001b[?25hdone\n",
            "  Created wheel for pyspark: filename=pyspark-3.0.1-py2.py3-none-any.whl size=204612242 sha256=978fcad5b42d32d9baba36c0bf1ba22b2553011c12101c9baa955ed903db7021\n",
            "  Stored in directory: /root/.cache/pip/wheels/5e/bd/07/031766ca628adec8435bb40f0bd83bb676ce65ff4007f8e73f\n",
            "Successfully built pyspark\n",
            "Installing collected packages: py4j, pyspark\n",
            "Successfully installed py4j-0.10.9 pyspark-3.0.1\n"
          ],
          "name": "stdout"
        }
      ]
    },
    {
      "cell_type": "markdown",
      "metadata": {
        "id": "Br4EYnxGShhB"
      },
      "source": [
        "#[1] Load Data"
      ]
    },
    {
      "cell_type": "markdown",
      "metadata": {
        "id": "TV8uxJvA4fPq"
      },
      "source": [
        "###[1.1] Download Dataset\r\n",
        "UCI Dataset | Breast Cancer Wisconsin Original"
      ]
    },
    {
      "cell_type": "code",
      "metadata": {
        "colab": {
          "base_uri": "https://localhost:8080/"
        },
        "id": "UUm3RisVyBVK",
        "outputId": "3cbb3e9c-b5e1-432e-c074-ad7f15502d42"
      },
      "source": [
        "!wget https://archive.ics.uci.edu/ml/machine-learning-databases/breast-cancer-wisconsin/breast-cancer-wisconsin.data"
      ],
      "execution_count": 3,
      "outputs": [
        {
          "output_type": "stream",
          "text": [
            "--2021-02-01 05:07:15--  https://archive.ics.uci.edu/ml/machine-learning-databases/breast-cancer-wisconsin/breast-cancer-wisconsin.data\n",
            "Resolving archive.ics.uci.edu (archive.ics.uci.edu)... 128.195.10.252\n",
            "Connecting to archive.ics.uci.edu (archive.ics.uci.edu)|128.195.10.252|:443... connected.\n",
            "HTTP request sent, awaiting response... 200 OK\n",
            "Length: 19889 (19K) [application/x-httpd-php]\n",
            "Saving to: ‘breast-cancer-wisconsin.data’\n",
            "\n",
            "breast-cancer-wisco 100%[===================>]  19.42K  --.-KB/s    in 0.06s   \n",
            "\n",
            "2021-02-01 05:07:15 (303 KB/s) - ‘breast-cancer-wisconsin.data’ saved [19889/19889]\n",
            "\n"
          ],
          "name": "stdout"
        }
      ]
    },
    {
      "cell_type": "code",
      "metadata": {
        "id": "5d04WE-AvdWP"
      },
      "source": [
        "import os\r\n",
        "os.rename('breast-cancer-wisconsin.data','breast-cancer-wisconsin.csv') "
      ],
      "execution_count": 4,
      "outputs": []
    },
    {
      "cell_type": "markdown",
      "metadata": {
        "id": "YdWHr2J1Y8rG"
      },
      "source": [
        "###[1.2] Build Pyspark dan Load Data\r\n",
        "UCI Dataset | Breast Cancer Wisconsin Original"
      ]
    },
    {
      "cell_type": "code",
      "metadata": {
        "colab": {
          "base_uri": "https://localhost:8080/",
          "height": 196
        },
        "id": "qPCb5e-1S3TR",
        "outputId": "692b713b-8fe2-44c6-cbc9-5044a9b1632f"
      },
      "source": [
        "from pyspark import SparkContext, SparkConf\r\n",
        "from pyspark.sql import SparkSession, SQLContext\r\n",
        "\r\n",
        "spark = SparkSession.builder.appName(\"Klasifikasi - Breast Cancer Wisconsin\").getOrCreate()\r\n",
        "sc = spark.sparkContext\r\n",
        "sc"
      ],
      "execution_count": 5,
      "outputs": [
        {
          "output_type": "execute_result",
          "data": {
            "text/html": [
              "\n",
              "        <div>\n",
              "            <p><b>SparkContext</b></p>\n",
              "\n",
              "            <p><a href=\"http://9d7f67165149:4040\">Spark UI</a></p>\n",
              "\n",
              "            <dl>\n",
              "              <dt>Version</dt>\n",
              "                <dd><code>v3.0.1</code></dd>\n",
              "              <dt>Master</dt>\n",
              "                <dd><code>local[*]</code></dd>\n",
              "              <dt>AppName</dt>\n",
              "                <dd><code>Klasifikasi - Breast Cancer Wisconsin</code></dd>\n",
              "            </dl>\n",
              "        </div>\n",
              "        "
            ],
            "text/plain": [
              "<SparkContext master=local[*] appName=Klasifikasi - Breast Cancer Wisconsin>"
            ]
          },
          "metadata": {
            "tags": []
          },
          "execution_count": 5
        }
      ]
    },
    {
      "cell_type": "markdown",
      "metadata": {
        "id": "TJDVcHncfW1s"
      },
      "source": [
        "**Load Dataset (Spark.Read)**"
      ]
    },
    {
      "cell_type": "code",
      "metadata": {
        "colab": {
          "base_uri": "https://localhost:8080/"
        },
        "id": "zLWO1mPxn-by",
        "outputId": "9975a031-8a2d-443c-94ab-9882558f7323"
      },
      "source": [
        "df_csv = spark.read.format(\"csv\").option(\"header\", \"true\").load(\"breast-cancer-wisconsin.csv\").toDF(\r\n",
        "              \"ID\", \"ClumpThickness\",\"UnifromityCellSize\",\"UniformityCellShape\",\"Adhesion\",\r\n",
        "                \"EpithelialCellSize\",\"BareNuclei\",\"BlandChromatin\",\"NormalNuclei\", \"Class\")\r\n",
        "\r\n",
        "df_csv.show()"
      ],
      "execution_count": 32,
      "outputs": [
        {
          "output_type": "stream",
          "text": [
            "+-------+--------------+------------------+-------------------+--------+------------------+----------+--------------+------------+-------+-----+\n",
            "|     ID|ClumpThickness|UnifromityCellSize|UniformityCellShape|Adhesion|EpithelialCellSize|BareNuclei|BlandChromatin|NormalNuclei|Mitoses|Class|\n",
            "+-------+--------------+------------------+-------------------+--------+------------------+----------+--------------+------------+-------+-----+\n",
            "|1000025|             5|                 1|                  1|       1|                 2|         1|             3|           1|      1|    2|\n",
            "|1002945|             5|                 4|                  4|       5|                 7|        10|             3|           2|      1|    2|\n",
            "|1015425|             3|                 1|                  1|       1|                 2|         2|             3|           1|      1|    2|\n",
            "|1016277|             6|                 8|                  8|       1|                 3|         4|             3|           7|      1|    2|\n",
            "|1017023|             4|                 1|                  1|       3|                 2|         1|             3|           1|      1|    2|\n",
            "|1017122|             8|                10|                 10|       8|                 7|        10|             9|           7|      1|    4|\n",
            "|1018099|             1|                 1|                  1|       1|                 2|        10|             3|           1|      1|    2|\n",
            "|1018561|             2|                 1|                  2|       1|                 2|         1|             3|           1|      1|    2|\n",
            "|1033078|             2|                 1|                  1|       1|                 2|         1|             1|           1|      5|    2|\n",
            "|1033078|             4|                 2|                  1|       1|                 2|         1|             2|           1|      1|    2|\n",
            "|1035283|             1|                 1|                  1|       1|                 1|         1|             3|           1|      1|    2|\n",
            "|1036172|             2|                 1|                  1|       1|                 2|         1|             2|           1|      1|    2|\n",
            "|1041801|             5|                 3|                  3|       3|                 2|         3|             4|           4|      1|    4|\n",
            "|1043999|             1|                 1|                  1|       1|                 2|         3|             3|           1|      1|    2|\n",
            "|1044572|             8|                 7|                  5|      10|                 7|         9|             5|           5|      4|    4|\n",
            "|1047630|             7|                 4|                  6|       4|                 6|         1|             4|           3|      1|    4|\n",
            "|1048672|             4|                 1|                  1|       1|                 2|         1|             2|           1|      1|    2|\n",
            "|1049815|             4|                 1|                  1|       1|                 2|         1|             3|           1|      1|    2|\n",
            "|1050670|            10|                 7|                  7|       6|                 4|        10|             4|           1|      2|    4|\n",
            "|1050718|             6|                 1|                  1|       1|                 2|         1|             3|           1|      1|    2|\n",
            "+-------+--------------+------------------+-------------------+--------+------------------+----------+--------------+------------+-------+-----+\n",
            "only showing top 20 rows\n",
            "\n"
          ],
          "name": "stdout"
        }
      ]
    },
    {
      "cell_type": "markdown",
      "metadata": {
        "id": "ED_nJ8R6ZHme"
      },
      "source": [
        "#[2] Preprocessing Dataset\r\n",
        "Drop NA | Labeling | Standarisasi "
      ]
    },
    {
      "cell_type": "markdown",
      "metadata": {
        "id": "LKoMOljDZcE1"
      },
      "source": [
        "###[2.1] Check dan Drop NA / Null\r\n",
        "Drop NA Value"
      ]
    },
    {
      "cell_type": "markdown",
      "metadata": {
        "id": "WglneGF6mh9G"
      },
      "source": [
        "**Mengecek Tipe Data tiap Kolom**"
      ]
    },
    {
      "cell_type": "code",
      "metadata": {
        "colab": {
          "base_uri": "https://localhost:8080/"
        },
        "id": "naCqwDe-08GA",
        "outputId": "a01290cb-170b-4c67-cb94-760c026b7cf5"
      },
      "source": [
        "df_csv.printSchema()"
      ],
      "execution_count": 33,
      "outputs": [
        {
          "output_type": "stream",
          "text": [
            "root\n",
            " |-- ID: string (nullable = true)\n",
            " |-- ClumpThickness: string (nullable = true)\n",
            " |-- UnifromityCellSize: string (nullable = true)\n",
            " |-- UniformityCellShape: string (nullable = true)\n",
            " |-- Adhesion: string (nullable = true)\n",
            " |-- EpithelialCellSize: string (nullable = true)\n",
            " |-- BareNuclei: string (nullable = true)\n",
            " |-- BlandChromatin: string (nullable = true)\n",
            " |-- NormalNuclei: string (nullable = true)\n",
            " |-- Mitoses: string (nullable = true)\n",
            " |-- Class: string (nullable = true)\n",
            "\n"
          ],
          "name": "stdout"
        }
      ]
    },
    {
      "cell_type": "code",
      "metadata": {
        "colab": {
          "base_uri": "https://localhost:8080/"
        },
        "id": "5DhsOiOr_Y98",
        "outputId": "7f01d0dc-0710-43ba-8faf-973623d73ec5"
      },
      "source": [
        "df_csv.na.drop()"
      ],
      "execution_count": 34,
      "outputs": [
        {
          "output_type": "execute_result",
          "data": {
            "text/plain": [
              "DataFrame[ID: string, ClumpThickness: string, UnifromityCellSize: string, UniformityCellShape: string, Adhesion: string, EpithelialCellSize: string, BareNuclei: string, BlandChromatin: string, NormalNuclei: string, Mitoses: string, Class: string]"
            ]
          },
          "metadata": {
            "tags": []
          },
          "execution_count": 34
        }
      ]
    },
    {
      "cell_type": "markdown",
      "metadata": {
        "id": "QKhm5sK4ZoTV"
      },
      "source": [
        "###[2.2] Labeling\r\n",
        "2 Label | B = 0 | Malignant = 1"
      ]
    },
    {
      "cell_type": "code",
      "metadata": {
        "colab": {
          "base_uri": "https://localhost:8080/"
        },
        "id": "E2il9XMH3L4d",
        "outputId": "e4509a6e-20dc-4c4e-e9c8-0baf37b5b1a2"
      },
      "source": [
        "from pyspark.sql.functions import col, when \r\n",
        "\r\n",
        "# 4 = M, 2 = B\r\n",
        "df_csv = df_csv.withColumn(\"Class\",when(col(\"Class\") == 4, \"M\").when(col(\"Class\") == 2, \"B\").otherwise(0))\r\n",
        "df_csv.show()"
      ],
      "execution_count": 35,
      "outputs": [
        {
          "output_type": "stream",
          "text": [
            "+-------+--------------+------------------+-------------------+--------+------------------+----------+--------------+------------+-------+-----+\n",
            "|     ID|ClumpThickness|UnifromityCellSize|UniformityCellShape|Adhesion|EpithelialCellSize|BareNuclei|BlandChromatin|NormalNuclei|Mitoses|Class|\n",
            "+-------+--------------+------------------+-------------------+--------+------------------+----------+--------------+------------+-------+-----+\n",
            "|1000025|             5|                 1|                  1|       1|                 2|         1|             3|           1|      1|    B|\n",
            "|1002945|             5|                 4|                  4|       5|                 7|        10|             3|           2|      1|    B|\n",
            "|1015425|             3|                 1|                  1|       1|                 2|         2|             3|           1|      1|    B|\n",
            "|1016277|             6|                 8|                  8|       1|                 3|         4|             3|           7|      1|    B|\n",
            "|1017023|             4|                 1|                  1|       3|                 2|         1|             3|           1|      1|    B|\n",
            "|1017122|             8|                10|                 10|       8|                 7|        10|             9|           7|      1|    M|\n",
            "|1018099|             1|                 1|                  1|       1|                 2|        10|             3|           1|      1|    B|\n",
            "|1018561|             2|                 1|                  2|       1|                 2|         1|             3|           1|      1|    B|\n",
            "|1033078|             2|                 1|                  1|       1|                 2|         1|             1|           1|      5|    B|\n",
            "|1033078|             4|                 2|                  1|       1|                 2|         1|             2|           1|      1|    B|\n",
            "|1035283|             1|                 1|                  1|       1|                 1|         1|             3|           1|      1|    B|\n",
            "|1036172|             2|                 1|                  1|       1|                 2|         1|             2|           1|      1|    B|\n",
            "|1041801|             5|                 3|                  3|       3|                 2|         3|             4|           4|      1|    M|\n",
            "|1043999|             1|                 1|                  1|       1|                 2|         3|             3|           1|      1|    B|\n",
            "|1044572|             8|                 7|                  5|      10|                 7|         9|             5|           5|      4|    M|\n",
            "|1047630|             7|                 4|                  6|       4|                 6|         1|             4|           3|      1|    M|\n",
            "|1048672|             4|                 1|                  1|       1|                 2|         1|             2|           1|      1|    B|\n",
            "|1049815|             4|                 1|                  1|       1|                 2|         1|             3|           1|      1|    B|\n",
            "|1050670|            10|                 7|                  7|       6|                 4|        10|             4|           1|      2|    M|\n",
            "|1050718|             6|                 1|                  1|       1|                 2|         1|             3|           1|      1|    B|\n",
            "+-------+--------------+------------------+-------------------+--------+------------------+----------+--------------+------------+-------+-----+\n",
            "only showing top 20 rows\n",
            "\n"
          ],
          "name": "stdout"
        }
      ]
    },
    {
      "cell_type": "code",
      "metadata": {
        "colab": {
          "base_uri": "https://localhost:8080/"
        },
        "id": "NqpNU0lV31GV",
        "outputId": "5c762e66-385c-4de9-e7c9-7bb39d38c571"
      },
      "source": [
        "total_B = df_csv.filter(df_csv['Class']=='B').select('Class').count()\r\n",
        "total_M = df_csv.filter(df_csv['Class']=='M').select('Class').count()\r\n",
        "print(\"Jumlah Total Benign : \",total_B) #Unbalaced dataset\r\n",
        "print(\"Jumlah Total Malignant : \", total_M) #Finding exact number's of each classes"
      ],
      "execution_count": 36,
      "outputs": [
        {
          "output_type": "stream",
          "text": [
            "Jumlah Total Benign :  458\n",
            "Jumlah Total Malignant :  241\n"
          ],
          "name": "stdout"
        }
      ]
    },
    {
      "cell_type": "code",
      "metadata": {
        "colab": {
          "base_uri": "https://localhost:8080/"
        },
        "id": "I97tS66xqo-y",
        "outputId": "5154a353-e9cf-4db4-d61e-c0de4284309a"
      },
      "source": [
        "from pyspark.ml.feature import StringIndexer\r\n",
        "\r\n",
        "# Konversi Class menjadi biner 0 (B) dan 1 (M)\r\n",
        "indexer = StringIndexer(inputCol=\"Class\", outputCol=\"label\").fit(df_csv)\r\n",
        "df_csv = indexer.transform(df_csv)\r\n",
        "df_csv = df_csv.drop('Class')\r\n",
        "df_csv.show(5)"
      ],
      "execution_count": 37,
      "outputs": [
        {
          "output_type": "stream",
          "text": [
            "+-------+--------------+------------------+-------------------+--------+------------------+----------+--------------+------------+-------+-----+\n",
            "|     ID|ClumpThickness|UnifromityCellSize|UniformityCellShape|Adhesion|EpithelialCellSize|BareNuclei|BlandChromatin|NormalNuclei|Mitoses|label|\n",
            "+-------+--------------+------------------+-------------------+--------+------------------+----------+--------------+------------+-------+-----+\n",
            "|1000025|             5|                 1|                  1|       1|                 2|         1|             3|           1|      1|  0.0|\n",
            "|1002945|             5|                 4|                  4|       5|                 7|        10|             3|           2|      1|  0.0|\n",
            "|1015425|             3|                 1|                  1|       1|                 2|         2|             3|           1|      1|  0.0|\n",
            "|1016277|             6|                 8|                  8|       1|                 3|         4|             3|           7|      1|  0.0|\n",
            "|1017023|             4|                 1|                  1|       3|                 2|         1|             3|           1|      1|  0.0|\n",
            "+-------+--------------+------------------+-------------------+--------+------------------+----------+--------------+------------+-------+-----+\n",
            "only showing top 5 rows\n",
            "\n"
          ],
          "name": "stdout"
        }
      ]
    },
    {
      "cell_type": "code",
      "metadata": {
        "colab": {
          "base_uri": "https://localhost:8080/",
          "height": 297
        },
        "id": "btMUwGDuoJm6",
        "outputId": "d21a331d-d960-46bc-bd6e-0c5fadbd5c6a"
      },
      "source": [
        "import matplotlib.pyplot as plt\r\n",
        "\r\n",
        "# Pie Chart Label\r\n",
        "labels = ['Benign', 'Malignant']\r\n",
        "sizes = [total_B, total_M]\r\n",
        "colors = ['#ff9999','#66b3ff']\r\n",
        "explode = (0.05,0.05)\r\n",
        " \r\n",
        "# Pie Chart Plot\r\n",
        "plt.pie(sizes, colors = colors, labels=labels, autopct='%.1f%%', startangle=90, pctdistance=0.85, explode = explode)\r\n",
        "centre_circle = plt.Circle((0,0),0.70,fc='white')\r\n",
        "fig = plt.gcf()\r\n",
        "fig.gca().add_artist(centre_circle)\r\n",
        "plt.tight_layout()\r\n",
        "plt.show()"
      ],
      "execution_count": 38,
      "outputs": [
        {
          "output_type": "display_data",
          "data": {
            "image/png": "[encoded data removed]",
            "text/plain": [
              "<Figure size 432x288 with 1 Axes>"
            ]
          },
          "metadata": {
            "tags": []
          }
        }
      ]
    },
    {
      "cell_type": "markdown",
      "metadata": {
        "id": "eIKiv_Gsru6c"
      },
      "source": [
        "###[2.3] Merubah Tipe Data\r\n",
        "Menjadi Float | Kecuali Label Menjadi Integer"
      ]
    },
    {
      "cell_type": "markdown",
      "metadata": {
        "id": "vIWb58EhsjCZ"
      },
      "source": [
        "**Mengubah Tipe data semua fitur menjadi float dan Label menjadi Integer**"
      ]
    },
    {
      "cell_type": "code",
      "metadata": {
        "id": "M6j9ovqXrtjt"
      },
      "source": [
        "from pyspark.sql.types import * \r\n",
        "def Casting(columns,df):\r\n",
        "    for i in columns:\r\n",
        "        df = df.withColumn(i, df[i].cast(FloatType()))\r\n",
        "    return df\r\n",
        "\r\n",
        "df_csv = Casting(df_csv.columns,df_csv) \r\n",
        "df_csv = df_csv.withColumn(\"label\",df_csv[\"label\"].cast(IntegerType())) "
      ],
      "execution_count": 39,
      "outputs": []
    },
    {
      "cell_type": "code",
      "metadata": {
        "colab": {
          "base_uri": "https://localhost:8080/"
        },
        "id": "tN2SJxyysXQG",
        "outputId": "7f10fc77-16d5-4cd8-97c2-896e3bc69953"
      },
      "source": [
        "df_csv.printSchema() "
      ],
      "execution_count": 40,
      "outputs": [
        {
          "output_type": "stream",
          "text": [
            "root\n",
            " |-- ID: float (nullable = true)\n",
            " |-- ClumpThickness: float (nullable = true)\n",
            " |-- UnifromityCellSize: float (nullable = true)\n",
            " |-- UniformityCellShape: float (nullable = true)\n",
            " |-- Adhesion: float (nullable = true)\n",
            " |-- EpithelialCellSize: float (nullable = true)\n",
            " |-- BareNuclei: float (nullable = true)\n",
            " |-- BlandChromatin: float (nullable = true)\n",
            " |-- NormalNuclei: float (nullable = true)\n",
            " |-- Mitoses: float (nullable = true)\n",
            " |-- label: integer (nullable = true)\n",
            "\n"
          ],
          "name": "stdout"
        }
      ]
    },
    {
      "cell_type": "markdown",
      "metadata": {
        "id": "JoJNAXUwacAL"
      },
      "source": [
        "###[2.4] Standarisasi Data\r\n",
        "VectorAssembler | StandarScaller"
      ]
    },
    {
      "cell_type": "code",
      "metadata": {
        "colab": {
          "base_uri": "https://localhost:8080/"
        },
        "id": "QSc2dSam0xgG",
        "outputId": "ed5a3675-fc22-4a26-e56e-7f8f28374adb"
      },
      "source": [
        "from pyspark.ml.feature import VectorAssembler\r\n",
        "selected_features = df_csv.select(\r\n",
        "                              \"ClumpThickness\",\"UnifromityCellSize\",\"UniformityCellShape\",\"Adhesion\",\r\n",
        "                              \"EpithelialCellSize\",\"BareNuclei\",\"BlandChromatin\",\"NormalNuclei\")\r\n",
        "\r\n",
        "assembler = VectorAssembler(inputCols=selected_features.columns,\r\n",
        "                           outputCol='features',\r\n",
        "                           handleInvalid='skip')\r\n",
        "df_csv = assembler.transform(df_csv)\r\n",
        "df_csv.show(5)"
      ],
      "execution_count": 41,
      "outputs": [
        {
          "output_type": "stream",
          "text": [
            "+---------+--------------+------------------+-------------------+--------+------------------+----------+--------------+------------+-------+-----+--------------------+\n",
            "|       ID|ClumpThickness|UnifromityCellSize|UniformityCellShape|Adhesion|EpithelialCellSize|BareNuclei|BlandChromatin|NormalNuclei|Mitoses|label|            features|\n",
            "+---------+--------------+------------------+-------------------+--------+------------------+----------+--------------+------------+-------+-----+--------------------+\n",
            "|1000025.0|           5.0|               1.0|                1.0|     1.0|               2.0|       1.0|           3.0|         1.0|    1.0|    0|[5.0,1.0,1.0,1.0,...|\n",
            "|1002945.0|           5.0|               4.0|                4.0|     5.0|               7.0|      10.0|           3.0|         2.0|    1.0|    0|[5.0,4.0,4.0,5.0,...|\n",
            "|1015425.0|           3.0|               1.0|                1.0|     1.0|               2.0|       2.0|           3.0|         1.0|    1.0|    0|[3.0,1.0,1.0,1.0,...|\n",
            "|1016277.0|           6.0|               8.0|                8.0|     1.0|               3.0|       4.0|           3.0|         7.0|    1.0|    0|[6.0,8.0,8.0,1.0,...|\n",
            "|1017023.0|           4.0|               1.0|                1.0|     3.0|               2.0|       1.0|           3.0|         1.0|    1.0|    0|[4.0,1.0,1.0,3.0,...|\n",
            "+---------+--------------+------------------+-------------------+--------+------------------+----------+--------------+------------+-------+-----+--------------------+\n",
            "only showing top 5 rows\n",
            "\n"
          ],
          "name": "stdout"
        }
      ]
    },
    {
      "cell_type": "code",
      "metadata": {
        "colab": {
          "base_uri": "https://localhost:8080/"
        },
        "id": "R5L7xcGrJ_H0",
        "outputId": "e19c9234-a64e-4c96-dc2a-83ed625c76b3"
      },
      "source": [
        "from pyspark.ml.feature import StandardScaler\r\n",
        "standardScaler = StandardScaler().setInputCol(\"features\").setOutputCol(\"scaled_features\")\r\n",
        "df_csv = standardScaler.fit(df_csv).transform(df_csv)\r\n",
        "df_csv.show(5)"
      ],
      "execution_count": 42,
      "outputs": [
        {
          "output_type": "stream",
          "text": [
            "+---------+--------------+------------------+-------------------+--------+------------------+----------+--------------+------------+-------+-----+--------------------+--------------------+\n",
            "|       ID|ClumpThickness|UnifromityCellSize|UniformityCellShape|Adhesion|EpithelialCellSize|BareNuclei|BlandChromatin|NormalNuclei|Mitoses|label|            features|     scaled_features|\n",
            "+---------+--------------+------------------+-------------------+--------+------------------+----------+--------------+------------+-------+-----+--------------------+--------------------+\n",
            "|1000025.0|           5.0|               1.0|                1.0|     1.0|               2.0|       1.0|           3.0|         1.0|    1.0|    0|[5.0,1.0,1.0,1.0,...|[1.77257110220912...|\n",
            "|1002945.0|           5.0|               4.0|                4.0|     5.0|               7.0|      10.0|           3.0|         2.0|    1.0|    0|[5.0,4.0,4.0,5.0,...|[1.77257110220912...|\n",
            "|1015425.0|           3.0|               1.0|                1.0|     1.0|               2.0|       2.0|           3.0|         1.0|    1.0|    0|[3.0,1.0,1.0,1.0,...|[1.06354266132547...|\n",
            "|1016277.0|           6.0|               8.0|                8.0|     1.0|               3.0|       4.0|           3.0|         7.0|    1.0|    0|[6.0,8.0,8.0,1.0,...|[2.12708532265095...|\n",
            "|1017023.0|           4.0|               1.0|                1.0|     3.0|               2.0|       1.0|           3.0|         1.0|    1.0|    0|[4.0,1.0,1.0,3.0,...|[1.41805688176730...|\n",
            "+---------+--------------+------------------+-------------------+--------+------------------+----------+--------------+------------+-------+-----+--------------------+--------------------+\n",
            "only showing top 5 rows\n",
            "\n"
          ],
          "name": "stdout"
        }
      ]
    },
    {
      "cell_type": "markdown",
      "metadata": {
        "id": "OGGnjGTWhEG6"
      },
      "source": [
        "#[3] Classification\r\n",
        "Split Data | Random Forest | Naive Bayes | Gradient Boosting Forest"
      ]
    },
    {
      "cell_type": "markdown",
      "metadata": {
        "id": "VJJQwnJEhPZ1"
      },
      "source": [
        "###[3.1] Splitting Data\r\n",
        "Menjadi Train 80% dan Test 20%"
      ]
    },
    {
      "cell_type": "code",
      "metadata": {
        "id": "lQeFyChrLaD8"
      },
      "source": [
        "train_df, test_df = df_csv.select(\"label\",\"scaled_features\",\"ID\").randomSplit([0.8,0.2], seed=140)"
      ],
      "execution_count": 43,
      "outputs": []
    },
    {
      "cell_type": "markdown",
      "metadata": {
        "id": "k7IcaHAbhrOx"
      },
      "source": [
        "###[3.2] Naive Bayes Classication \r\n",
        "NBClassifier | (Versi Pyspark)"
      ]
    },
    {
      "cell_type": "code",
      "metadata": {
        "id": "irFQilwshrPA"
      },
      "source": [
        "from pyspark.ml.classification import NaiveBayes\r\n",
        "\r\n",
        "NB = NaiveBayes(featuresCol = 'scaled_features', labelCol = 'label')\r\n",
        "NB_model = NB.fit(train_df)\r\n",
        "predictionsNB = NB_model.transform(test_df)"
      ],
      "execution_count": 57,
      "outputs": []
    },
    {
      "cell_type": "code",
      "metadata": {
        "colab": {
          "base_uri": "https://localhost:8080/"
        },
        "id": "hLGvAQ7whrPB",
        "outputId": "1a38a564-6e69-43d4-d715-cab6a7b8535a"
      },
      "source": [
        "import pandas as pd\r\n",
        "from sklearn.metrics import classification_report, confusion_matrix\r\n",
        "\r\n",
        "NBpredictB = predictionsNB[predictionsNB.prediction==0].toPandas()\r\n",
        "NBpredictM = predictionsNB[predictionsNB.prediction==1].toPandas()\r\n",
        "\r\n",
        "result = pd.concat([NBpredictM,NBpredictB])\r\n",
        "true_labels=(test_df.orderBy(\"ID\").select(\"label\")).toPandas()\r\n",
        "predicted_labels=result.sort_values(\"ID\")[\"prediction\"]\r\n",
        "\r\n",
        "print(\"-- Naive Bayes --\")\r\n",
        "print(\"------------------------------------------------------------------------\")\r\n",
        "print(\"Classification Report\\n\",classification_report(true_labels, predicted_labels))\r\n",
        "print(\"------------------------------------------------------------------------\")\r\n",
        "print(\"Confusion matrix\\n\",confusion_matrix(true_labels,predicted_labels),\"\\n\\n\")\r\n",
        "NBA=confusion_matrix(true_labels,predicted_labels)"
      ],
      "execution_count": 60,
      "outputs": [
        {
          "output_type": "stream",
          "text": [
            "-- Naive Bayes --\n",
            "------------------------------------------------------------------------\n",
            "Classification Report\n",
            "               precision    recall  f1-score   support\n",
            "\n",
            "           0       0.84      0.99      0.91        89\n",
            "           1       0.97      0.65      0.78        48\n",
            "\n",
            "    accuracy                           0.87       137\n",
            "   macro avg       0.90      0.82      0.84       137\n",
            "weighted avg       0.88      0.87      0.86       137\n",
            "\n",
            "------------------------------------------------------------------------\n",
            "Confusion matrix\n",
            " [[88  1]\n",
            " [17 31]] \n",
            "\n",
            "\n"
          ],
          "name": "stdout"
        }
      ]
    },
    {
      "cell_type": "markdown",
      "metadata": {
        "id": "JuRwyjVBjVqm"
      },
      "source": [
        "###[3.3]Gradient-Boosted Tree  Classication \r\n",
        "GBTClassifier | (Versi Pyspark)"
      ]
    },
    {
      "cell_type": "code",
      "metadata": {
        "id": "1Up0A4qHjVq5"
      },
      "source": [
        "from pyspark.ml.classification import GBTClassifier\r\n",
        "\r\n",
        "GBT = GBTClassifier(featuresCol = 'scaled_features', labelCol = 'label',seed=140)\r\n",
        "GBT_model = GBT.fit(train_df)\r\n",
        "GBTpredictions = GBT_model.transform(test_df)"
      ],
      "execution_count": 61,
      "outputs": []
    },
    {
      "cell_type": "code",
      "metadata": {
        "colab": {
          "base_uri": "https://localhost:8080/"
        },
        "id": "1b-NumjijVq6",
        "outputId": "601c4e2c-6209-47d5-be05-230c2e7abdb1"
      },
      "source": [
        "import pandas as pd\r\n",
        "from sklearn.metrics import classification_report, confusion_matrix\r\n",
        "\r\n",
        "GBTpredictB = GBTpredictions[GBTpredictions.prediction==0].toPandas()\r\n",
        "GBTpredictM = GBTpredictions[GBTpredictions.prediction==1].toPandas()\r\n",
        "\r\n",
        "result = pd.concat([GBTpredictM,GBTpredictB])\r\n",
        "true_labels=(test_df.orderBy(\"ID\").select(\"label\")).toPandas()\r\n",
        "predicted_labels=result.sort_values(\"ID\")[\"prediction\"]\r\n",
        "\r\n",
        "print(\"-- Gradient-Boosted Tree --\")\r\n",
        "print(\"------------------------------------------------------------------------\")\r\n",
        "print(\"Classification Report\\n\",classification_report(true_labels, predicted_labels))\r\n",
        "print(\"------------------------------------------------------------------------\")\r\n",
        "print(\"Confusion matrix\\n\",confusion_matrix(true_labels,predicted_labels),\"\\n\\n\")\r\n",
        "GBTA = confusion_matrix(true_labels,predicted_labels)"
      ],
      "execution_count": 63,
      "outputs": [
        {
          "output_type": "stream",
          "text": [
            "-- Gradient-Boosted Tree --\n",
            "------------------------------------------------------------------------\n",
            "Classification Report\n",
            "               precision    recall  f1-score   support\n",
            "\n",
            "           0       0.99      0.97      0.98        89\n",
            "           1       0.94      0.98      0.96        48\n",
            "\n",
            "    accuracy                           0.97       137\n",
            "   macro avg       0.96      0.97      0.97       137\n",
            "weighted avg       0.97      0.97      0.97       137\n",
            "\n",
            "------------------------------------------------------------------------\n",
            "Confusion matrix\n",
            " [[86  3]\n",
            " [ 1 47]] \n",
            "\n",
            "\n"
          ],
          "name": "stdout"
        }
      ]
    },
    {
      "cell_type": "markdown",
      "metadata": {
        "id": "85-Rjh3sYm2V"
      },
      "source": [
        "###[3.4] Random Forest Classication \r\n",
        "RFClassifier | (Versi Pyspark)"
      ]
    },
    {
      "cell_type": "code",
      "metadata": {
        "id": "3z7IaxvHS2I6"
      },
      "source": [
        "from pyspark.ml.classification import RandomForestClassifier\r\n",
        "\r\n",
        "RFR = RandomForestClassifier(featuresCol = 'scaled_features', labelCol = 'label',seed=140)\r\n",
        "RFR_model = RFR.fit(train_df)\r\n",
        "predictions = RFR_model.transform(test_df)"
      ],
      "execution_count": 45,
      "outputs": []
    },
    {
      "cell_type": "code",
      "metadata": {
        "colab": {
          "base_uri": "https://localhost:8080/"
        },
        "id": "2E1urK9MTqbh",
        "outputId": "a69b0c74-69a7-4abd-c744-a31135703602"
      },
      "source": [
        "import pandas as pd\r\n",
        "from sklearn.metrics import classification_report, confusion_matrix\r\n",
        "\r\n",
        "RFpredictB = predictions[predictions.prediction==0].toPandas()\r\n",
        "RFpredictM = predictions[predictions.prediction==1].toPandas()\r\n",
        "\r\n",
        "result = pd.concat([RFpredictM,RFpredictB])\r\n",
        "true_labels=(test_df.orderBy(\"ID\").select(\"label\")).toPandas()\r\n",
        "predicted_labels=result.sort_values(\"ID\")[\"prediction\"]\r\n",
        "\r\n",
        "print(\"-- Random Forest --\")\r\n",
        "print(\"------------------------------------------------------------------------\")\r\n",
        "print(\"Classification Report\\n\",classification_report(true_labels, predicted_labels))\r\n",
        "print(\"------------------------------------------------------------------------\")\r\n",
        "print(\"Confusion matrix\\n\",confusion_matrix(true_labels,predicted_labels),\"\\n\\n\")\r\n",
        "rfA=confusion_matrix(true_labels,predicted_labels)"
      ],
      "execution_count": 51,
      "outputs": [
        {
          "output_type": "stream",
          "text": [
            "-- Random Forest --\n",
            "------------------------------------------------------------------------\n",
            "Classification Report\n",
            "               precision    recall  f1-score   support\n",
            "\n",
            "           0       1.00      0.99      0.99        89\n",
            "           1       0.98      1.00      0.99        48\n",
            "\n",
            "    accuracy                           0.99       137\n",
            "   macro avg       0.99      0.99      0.99       137\n",
            "weighted avg       0.99      0.99      0.99       137\n",
            "\n",
            "------------------------------------------------------------------------\n",
            "Confusion matrix\n",
            " [[88  1]\n",
            " [ 0 48]] \n",
            "\n",
            "\n"
          ],
          "name": "stdout"
        }
      ]
    },
    {
      "cell_type": "code",
      "metadata": {
        "id": "znIt_qbPX_oF"
      },
      "source": [
        ""
      ],
      "execution_count": null,
      "outputs": []
    },
    {
      "cell_type": "markdown",
      "metadata": {
        "id": "akta88zynAGF"
      },
      "source": [
        "#[4] Evaluation\r\n",
        "Evaluasi Model | RF | NB | GBT"
      ]
    },
    {
      "cell_type": "code",
      "metadata": {
        "id": "FijfcsJw-IzU",
        "colab": {
          "base_uri": "https://localhost:8080/"
        },
        "outputId": "e36cffa8-e97f-41a9-faa6-678e34565ef7"
      },
      "source": [
        "from pyspark.ml.evaluation import MulticlassClassificationEvaluator\r\n",
        "NBevaluator = MulticlassClassificationEvaluator( labelCol=\"label\", \r\n",
        "                                                                         predictionCol=\"prediction\", metricName=\"accuracy\")\r\n",
        "NBaccuracy = NBevaluator.evaluate(predictionsNB)\r\n",
        "print(\"Model accuracy: %.2f%% \\n\" % (NBaccuracy * 100))"
      ],
      "execution_count": 72,
      "outputs": [
        {
          "output_type": "stream",
          "text": [
            "Model accuracy: 86.86% \n",
            "\n"
          ],
          "name": "stdout"
        }
      ]
    },
    {
      "cell_type": "code",
      "metadata": {
        "colab": {
          "base_uri": "https://localhost:8080/"
        },
        "id": "7mNzuJCanOGU",
        "outputId": "3ad07cfb-4ca1-4f2f-c572-a567aeb61a4e"
      },
      "source": [
        "from pyspark.ml.evaluation import MulticlassClassificationEvaluator\r\n",
        "GBTevaluator = MulticlassClassificationEvaluator( labelCol=\"label\", \r\n",
        "                                                                         predictionCol=\"prediction\", metricName=\"accuracy\")\r\n",
        "GBTaccuracy = GBTevaluator.evaluate(GBTpredictions)\r\n",
        "print(\"Model accuracy: %.2f%% \\n\" % (GBTaccuracy * 100))"
      ],
      "execution_count": 73,
      "outputs": [
        {
          "output_type": "stream",
          "text": [
            "Model accuracy: 97.08% \n",
            "\n"
          ],
          "name": "stdout"
        }
      ]
    },
    {
      "cell_type": "code",
      "metadata": {
        "colab": {
          "base_uri": "https://localhost:8080/"
        },
        "id": "bkqFT6QDnXQs",
        "outputId": "4f7cd8b8-3fa7-40cb-9f8e-672ee6f02611"
      },
      "source": [
        "from pyspark.ml.evaluation import MulticlassClassificationEvaluator\r\n",
        "RFevaluator = MulticlassClassificationEvaluator( labelCol=\"label\", \r\n",
        "                                                                         predictionCol=\"prediction\", metricName=\"accuracy\")\r\n",
        "RFaccuracy = RFevaluator.evaluate(predictions)\r\n",
        "print(\"Model accuracy: %.2f%% \\n\" % (RFaccuracy * 100))"
      ],
      "execution_count": 74,
      "outputs": [
        {
          "output_type": "stream",
          "text": [
            "Model accuracy: 99.27% \n",
            "\n"
          ],
          "name": "stdout"
        }
      ]
    },
    {
      "cell_type": "code",
      "metadata": {
        "colab": {
          "base_uri": "https://localhost:8080/",
          "height": 142
        },
        "id": "d5EVc3VypO9g",
        "outputId": "1968f3a7-ea1d-44db-b22f-ce6b7d366cf1"
      },
      "source": [
        "data = {'Classification': [\"Naive Bayes\",\"Gradient-Boosting Tree \",\"Random Forest\"], 'Accuracy %': [86.86,97.08, 99.27]}\r\n",
        "df = pd.DataFrame(data=data)\r\n",
        "df.head()"
      ],
      "execution_count": 77,
      "outputs": [
        {
          "output_type": "execute_result",
          "data": {
            "text/html": [
              "<div>\n",
              "<style scoped>\n",
              "    .dataframe tbody tr th:only-of-type {\n",
              "        vertical-align: middle;\n",
              "    }\n",
              "\n",
              "    .dataframe tbody tr th {\n",
              "        vertical-align: top;\n",
              "    }\n",
              "\n",
              "    .dataframe thead th {\n",
              "        text-align: right;\n",
              "    }\n",
              "</style>\n",
              "<table border=\"1\" class=\"dataframe\">\n",
              "  <thead>\n",
              "    <tr style=\"text-align: right;\">\n",
              "      <th></th>\n",
              "      <th>Classification</th>\n",
              "      <th>Accuracy %</th>\n",
              "    </tr>\n",
              "  </thead>\n",
              "  <tbody>\n",
              "    <tr>\n",
              "      <th>0</th>\n",
              "      <td>Naive Bayes</td>\n",
              "      <td>86.86</td>\n",
              "    </tr>\n",
              "    <tr>\n",
              "      <th>1</th>\n",
              "      <td>Gradient-Boosting Tree</td>\n",
              "      <td>97.08</td>\n",
              "    </tr>\n",
              "    <tr>\n",
              "      <th>2</th>\n",
              "      <td>Random Forest</td>\n",
              "      <td>99.27</td>\n",
              "    </tr>\n",
              "  </tbody>\n",
              "</table>\n",
              "</div>"
            ],
            "text/plain": [
              "            Classification  Accuracy %\n",
              "0              Naive Bayes       86.86\n",
              "1  Gradient-Boosting Tree        97.08\n",
              "2            Random Forest       99.27"
            ]
          },
          "metadata": {
            "tags": []
          },
          "execution_count": 77
        }
      ]
    }
  ]
}